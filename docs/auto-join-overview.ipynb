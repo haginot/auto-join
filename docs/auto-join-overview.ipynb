{
 "cells": [
  {
   "cell_type": "markdown",
   "metadata": {},
   "source": [
    "# Auto-Join"
   ]
  },
  {
   "cell_type": "markdown",
   "metadata": {},
   "source": [
    "データアナリストにとっての悩みのひとつである、アドホックな分析における表結合。\n",
    "\n",
    "データソースの異なる複数システムからダンプされたデータや様々なオープンデータ、表計算ファイルなどに対して、キーとなるカラムのひな型が異なる場合、その表を結合するためには、分析の事前処理として、その変換の作業を行わなければなりません。\n",
    "\n",
    "E.Zhuらは \"Auto-join: Joining tables by leveraging transformations.\" (E.Zhu, Y.He, and S.Chaudhuri, 2017) のなかで、この変換処理を自動的に構築し、与えられた2つの表に対して等結合を行う`Auto-Join`という仕組みを提案しました。\n",
    "\n",
    "`Auto-Join`のアルゴリズムは、大規模なデータに対しても効率的に適用され、高い確率で正確な結合が可能であることを実験で評価しています。\n",
    "\n",
    "ここでは、同論文を解説しながら、Pythonで`Auto-Join`の実装を進めていきます。\n",
    "\n",
    "#### Reference\n",
    "[E. Zhu, Y. He, and S. Chaudhuri. Auto-join: Joining tables by leveraging transformations. PVLDB, 10(10):1034-1045, 2017.](https://www.microsoft.com/en-us/research/publication/auto-join-joining-tables-leveraging-transformations/)"
   ]
  },
  {
   "cell_type": "markdown",
   "metadata": {},
   "source": [
    "![Figure 1](./images/figure1.png)\n",
    "**Figure 1:**  \n",
    "(left): US presidents and popular votes.   \n",
    "(right): US presidents and job approval rating. The right table uses last-name, comma, first-name, with (year-of-birth and yearof-death).\n",
    "\n",
    "[E. Zhu, Y. He, and S. Chaudhuri. Auto-join: Joining tables by leveraging transformations. PVLDB, 10(10):1034-1045, 2017.]"
   ]
  },
  {
   "cell_type": "markdown",
   "metadata": {},
   "source": [
    "### Equi-Joinの限界\n",
    "\n",
    "Auto-Joinが扱っている、解決したい問題は何なのか。データを見ると理解が早いですね。異なるソースのデータを扱う場合 `Figure 1` のように、表結合しようにも、フォーマットが異なることが多々あります。\n",
    "データウェアハウスなどは、こうした問題が起こらないように、事前にETLを通じてデータクレンジングや前処理を行うですが、アドホックなデータ分析では、こういった前処理に多大な時間がかかってしまいます。\n",
    "\n",
    "`Figure 1`:  \n",
    "* 左: `GivenName [M. [M. ]]FamilyName`\n",
    "* 右: `Familyname, Firstname[ M. M.](yyyy-[yyyy])`\n",
    "\n",
    "このフォーマットの違いを修正する構文的変換を自動的に見つけることがこの論文のテーマです。\n",
    "\n",
    "\n",
    "比較対象の先行研究として、`fuzzy join` という方法が挙げられており、これはトークン分割、距離関数、しきい値の組み合わせを元に、キーの組み合わせを探索するもののようです。しかし、この方法はあらゆるデータの型に合わせるにはあまりにも計算量が大きく、またその値を決めることはとても難しいと考えられます。\n",
    "\n",
    "例えば、単語でトークン分割をする場合、\n",
    "\n",
    "`Figure 1` の最後の行\n",
    "* `Ronald Reagan`\n",
    "* `Reagan, Ronald(1911-2004)`\n",
    "\n",
    "この組のJaccard距離（類似度）は$0.66$となるため、しきい値は少なくともこれ以上大きな値にならなければなりません。\n",
    "\n",
    "$$1.0-\\frac{|v_s\\cap v_t|}{|v_s\\cup v_t|}=1.0-\\frac{|\\{Reagan\\}|}{|\\{Ronald, Regan, Ronald(1911-2004)\\}|}=1.0-\\frac{1}{3}=0.66$$\n",
    "\n",
    "しかし、しきい値を$0.66$とした場合、\n",
    "\n",
    "* `George W. Bush`\n",
    "* `Bush, George H. W.(1924-)`\n",
    "\n",
    "この組の類似度は$0.4$となり、これは正しい結果になりません。\n",
    "$$1.0-\\frac{|v_s\\cap v_t|}{|v_s\\cup v_t|}=1.0-\\frac{|\\{George,W,Bush\\}|}{|\\{George,W,Bush,H,(1924-)\\}|}=1.0-\\frac{3}{5}=0.4$$\n",
    "\n",
    "しきい値に基づく、決定境界では常に正しくキーの組合せを見つけることが難しいことがわかります。"
   ]
  },
  {
   "cell_type": "code",
   "execution_count": 1,
   "metadata": {},
   "outputs": [
    {
     "data": {
      "text/plain": [
       "['takahiro.hagino@bizreach.co.jp',\n",
       " 'akahiro.hagino@bizreach.co.jp$',\n",
       " 'kahiro.hagino@bizreach.co.jp$$',\n",
       " 'ahiro.hagino@bizreach.co.jp$$$',\n",
       " 'hiro.hagino@bizreach.co.jp$$$$',\n",
       " 'iro.hagino@bizreach.co.jp$$$$$',\n",
       " 'ro.hagino@bizreach.co.jp$$$$$$',\n",
       " 'o.hagino@bizreach.co.jp$$$$$$$',\n",
       " '.hagino@bizreach.co.jp$$$$$$$$',\n",
       " 'hagino@bizreach.co.jp$$$$$$$$$',\n",
       " 'agino@bizreach.co.jp$$$$$$$$$$',\n",
       " 'gino@bizreach.co.jp$$$$$$$$$$$',\n",
       " 'ino@bizreach.co.jp$$$$$$$$$$$$',\n",
       " 'no@bizreach.co.jp$$$$$$$$$$$$$',\n",
       " 'o@bizreach.co.jp$$$$$$$$$$$$$$',\n",
       " '@bizreach.co.jp$$$$$$$$$$$$$$$',\n",
       " 'bizreach.co.jp$$$$$$$$$$$$$$$$',\n",
       " 'izreach.co.jp$$$$$$$$$$$$$$$$$',\n",
       " 'zreach.co.jp$$$$$$$$$$$$$$$$$$',\n",
       " 'reach.co.jp$$$$$$$$$$$$$$$$$$$',\n",
       " 'each.co.jp$$$$$$$$$$$$$$$$$$$$',\n",
       " 'ach.co.jp$$$$$$$$$$$$$$$$$$$$$',\n",
       " 'ch.co.jp$$$$$$$$$$$$$$$$$$$$$$',\n",
       " 'h.co.jp$$$$$$$$$$$$$$$$$$$$$$$',\n",
       " '.co.jp$$$$$$$$$$$$$$$$$$$$$$$$',\n",
       " 'co.jp$$$$$$$$$$$$$$$$$$$$$$$$$',\n",
       " 'o.jp$$$$$$$$$$$$$$$$$$$$$$$$$$',\n",
       " '.jp$$$$$$$$$$$$$$$$$$$$$$$$$$$',\n",
       " 'jp$$$$$$$$$$$$$$$$$$$$$$$$$$$$',\n",
       " 'p$$$$$$$$$$$$$$$$$$$$$$$$$$$$$']"
      ]
     },
     "execution_count": 1,
     "metadata": {},
     "output_type": "execute_result"
    }
   ],
   "source": [
    "m = 'takahiro.hagino@bizreach.co.jp'\n",
    "[m[c:len(m)] + '$' * c for c in range(0, len(m))]"
   ]
  },
  {
   "cell_type": "markdown",
   "metadata": {},
   "source": [
    "#### Solution Overview.\n",
    "##### Step1: Find Joinable Row Pairs.\n",
    "##### Step2: Learn Transformation.\n",
    "##### Step3: Constrained Fuzzy Join.\n",
    "|Symbol|Description|\n",
    "|:-----|:----------|\n",
    "|$T_s, T_t$|$T_s$ is the source table, $T_t$ is the target table.|\n",
    "|$R_s, R_t$|A row in $T_s$ and $T_t$, respectively|\n",
    "|$C_s, C_t$|A column in $T_s$ and $T_t$, respectively|\n",
    "|$Q_q(v)$  |The q-grams of string value $v$|\n",
    "|$Q_q(C_s)$|The multi-set of all q-grams ***of distinct values*** in Cs|\n",
    "|$Q_q(C_t)$|The multi-set of all q-grams ***of distinct values*** in Ct|\n",
    "\n",
    "**example**\n",
    "$$Q_5(Database)=\\{Datab,ataba,tabas,abase\\}$$"
   ]
  },
  {
   "cell_type": "markdown",
   "metadata": {},
   "source": [
    "### 3.1.1 1-to-1 q-Gram Match\n",
    "\n",
    "* $p_q(k)$ : the *probability* mass function for a $q$-gram whose frequency ranks at position k among all $q$-grams\n",
    "  * ある$q$-gram がすべての$q$-gram中の、$k$番目になる確率\n",
    "\n",
    "$$\n",
    "p_q(k)=\\frac\n",
    "{\\frac{1}{k^{s_q}}}\n",
    "{\\sum_{z=1}^{N}\\frac{1}{z^{s_q}}}$$\n",
    "\n",
    "* $k$ : rank of a `q-gram` by frequency （頻出度ランク）\n",
    "* $N$ : total number of `g-gram`\n",
    "* $s_q$ : constant for a given $q$\n"
   ]
  },
  {
   "cell_type": "markdown",
   "metadata": {},
   "source": [
    "$$\\Omega = \\{Split, Concat, Substring, Constant, SelectK\\}$$"
   ]
  },
  {
   "cell_type": "markdown",
   "metadata": {},
   "source": [
    "**Definition 1.**\n",
    "*Transformation Join Problem:*\n",
    "Given two tables $T_s, T_t,$ and a predefined set of operators $\\Omega$, find a transformation $P=o_1\\cdot o_2\\cdot o_3\\cdot ...o_n$, using operators $o_i \\in \\Omega$, such that $P(T_s)$ can equi-join with key columns of $T_t$.\n",
    "\n",
    "* $P(T_s)$ equi-join with key columns of $T_t$\n",
    "  * 分割、連結、切出しなどの操作を加えて、$T_s$を$T_t$に変換する操作$P(T)$を発見しましょう"
   ]
  },
  {
   "cell_type": "markdown",
   "metadata": {},
   "source": [
    "**Proposition 1.**\n",
    "Given two columns $C_s$ and $C_t$ from\n",
    "tables $T_s$ and $T_t$ respectively, each with $N$ $q$-grams from an\n",
    "alphabet of size $\\left|\\Sigma\\right|$ that follow the power-law distribution\n",
    "above. The probability that a $q$-gram appears exactly once\n",
    "in both $C_s$ and $C_t$ by chance is bounded from above by the\n",
    "following.\n",
    "\n",
    "> TODO\n",
    "$$\\sum{|\\Sigma|^q}{k=1}\\big(\\big)^2$$"
   ]
  },
  {
   "cell_type": "markdown",
   "metadata": {},
   "source": [
    "* $Q_q(C)$ : the multi-set of all the $q$-grams of distinct values in column $C$\n",
    "* $F_q(g, C)$ : the number of occurences of a $q$-gram $g \\in Q_q(C)$. \n",
    "  * あるグラム$g$のカラム$C$における出現回数\n",
    "* $v_s$ : the cell value at row $R_s$ column $C_s$ in $T_s$\n",
    "* $v_t$ : the cell value at row $R_t$ column $C_t$ in $T_t$"
   ]
  },
  {
   "cell_type": "markdown",
   "metadata": {},
   "source": [
    "**Definition 2.**\n",
    "Let $g$ be a $q$\\-gram with $g \\in Q_q(v_s)$ and\n",
    "$g \\in Q_q(v_t)$. If $F_q(g, C_s) = 1$ and $F_q(g, C_t) = 1$, then $g$ is\n",
    "a 1-to-1 $q$-gram match between row pair $R_s$ and $R_t$ with\n",
    "respect to the pair of column $C_s$ and $C_t$."
   ]
  },
  {
   "cell_type": "markdown",
   "metadata": {},
   "source": [
    "### 3.1.2 General n-to-m q-Gram Match"
   ]
  },
  {
   "cell_type": "markdown",
   "metadata": {},
   "source": [
    "**Definition 3.**\n",
    "Let $g$ be a $q$-gram with $F(g, C_s) = n \\geq 1$\n",
    "and $F(g, C_t) = m \\geq 1$, then $g$ is a n-to-m $q$-gram match for\n",
    "corresponding rows with respect to the pair of column $C_s$\n",
    "and $C_t$."
   ]
  },
  {
   "cell_type": "markdown",
   "metadata": {},
   "source": [
    "* $\\frac{1}{n \\cdot m}$ : quantify the “goodness” of the\n",
    "match."
   ]
  },
  {
   "cell_type": "markdown",
   "metadata": {},
   "source": [
    "test all possible $q$-grams\n",
    "\n",
    "$g^*$ as the best prefix of all possible suffixes of $v$\n",
    "\n",
    "$$g^*=\n",
    "\\underset{\n",
    "\\forall_g \\in \\operatorname{Prefixes}(u), \n",
    "u \\in \\operatorname{Suffixes}(v)}\n",
    "{\\operatorname{arg max}} \\frac{1}{nm}$$\n",
    "\n",
    "> 最強の$q$-グラム$g^*$を決めよう"
   ]
  },
  {
   "cell_type": "markdown",
   "metadata": {},
   "source": [
    "$n=F(g,C_s)\\gt0$ and $m=F(g,C_t)\\gt0$"
   ]
  },
  {
   "cell_type": "markdown",
   "metadata": {},
   "source": [
    "**Proposition 2.**\n",
    "*Let $g_u^q$ be a prefix of a suffix $u$ with length $q$. As the length increases by 1 and  $g_u^q$ extends at the end, the $\\frac{1}{nm}$ score of the longer prefix $g_u^{q+1}$ is monotonically non-increasing, or $F(g_u^{q+1},C_s) \\le F(g_u^q,C_s)$* and $F(g_u^{q+1},C_t) \\le F(g_u^q,C_t)$.\n",
    "\n",
    "> A proof of this can be found in Appendix C."
   ]
  },
  {
   "cell_type": "markdown",
   "metadata": {},
   "source": [
    "### 3.1.4 Putting it together: Find Joinable Rows"
   ]
  },
  {
   "cell_type": "markdown",
   "metadata": {},
   "source": [
    "iterate through distinct value $v \\in C_s$, and use\n",
    "$\\operatorname{OptimalQGram}$\n",
    "to efficiently find the best $q$-gram match\n",
    "\n",
    "\n",
    "* $\\{g^*, score, R_s, R_t\\} \\leftarrow \\operatorname{OptimalQGram}(v, C_t)$\n",
    "  * この問題は$\\frac{1}{nm}$を最大化するgを見つけることが命題であり、$g^*$のときのペアとなる行とそのスコア$score=\\frac{1}{nm}$である。\n",
    "\n",
    "Suffixインデックスのすべてに対して\n",
    "\n",
    "$$\\forall_u \\in \\operatorname{Suffixes}(v)$$\n",
    "ベストな$q$を\n",
    "$$q^* \\leftarrow \\operatorname{BinarySearchQ}(u, C_t)$$\n",
    "\n",
    "* $\\operatorname{BinarySearchQ}(u,C)$ performs the binary search of $q^*$ that finds $g_u^{q^*}$\n",
    "  * あるCのなかで"
   ]
  },
  {
   "cell_type": "code",
   "execution_count": 8,
   "metadata": {},
   "outputs": [
    {
     "data": {
      "text/plain": [
       "['takahiro',\n",
       " 'akahiro$',\n",
       " 'kahiro$$',\n",
       " 'ahiro$$$',\n",
       " 'hiro$$$$',\n",
       " 'iro$$$$$',\n",
       " 'ro$$$$$$',\n",
       " 'o$$$$$$$']"
      ]
     },
     "execution_count": 8,
     "metadata": {},
     "output_type": "execute_result"
    }
   ],
   "source": [
    "# ['takahiro', 'takuya', 'shingo', 'tsuyoshi']\n",
    "m='takahiro';[m[c:len(m)] + '$' * c for c in range(0, len(m))]"
   ]
  },
  {
   "cell_type": "code",
   "execution_count": 12,
   "metadata": {},
   "outputs": [
    {
     "data": {
      "text/plain": [
       "'kahiro'"
      ]
     },
     "execution_count": 12,
     "metadata": {},
     "output_type": "execute_result"
    }
   ],
   "source": [
    "m='takahiro'\n",
    "u = [m[c:len(m)] for c in range(0, len(m))][2]\n",
    "ct = ['takahiro', 'takuya', 'shingo', 'tsuyoshi']\n",
    "def binary_search_q(u, ct):\n",
    "    a = 3\n",
    "    b = len(u) + 1\n",
    "    while a < b:\n",
    "        h = a + (b - a) / 2 # TODO ???\n",
    "        rt = query_index(ct, u[1:h])\n",
    "        if abs(rt) > 0:\n",
    "            a = h + 1\n",
    "        else:\n",
    "            b = h\n",
    "    return a - 1"
   ]
  },
  {
   "cell_type": "code",
   "execution_count": 4,
   "metadata": {},
   "outputs": [],
   "source": [
    "# TODO Mの型\n",
    "# OptimalQGramfind best q-gram match\n",
    "# how get KeyColumns() from T_t\n",
    "\"\"\"\n",
    "This function is based on \n",
    "- Algorithm 1 Find joinable row pairs\n",
    "- Algorithm 3 Complete pseudo code for joinable row pair\n",
    "ts:\n",
    "    T_s subject table\n",
    "    Dataframe\n",
    "tt:\n",
    "    T_t target table\n",
    "    Dataframe\n",
    "\"\"\"\n",
    "def FindJoinableRowPairs(ts, tt):\n",
    "    m = {}\n",
    "    for cs in ts.columns:\n",
    "        for ct in keycolumns(tt.columns):\n",
    "            cs.apply(lambda v: optimal_qgram(v, ct))\n",
    "            m.append()\n",
    "    return m.groupby().sort_values('score')"
   ]
  },
  {
   "cell_type": "markdown",
   "metadata": {},
   "source": [
    "# E. DETAILED PSEUDO CODE\n",
    "## E.1 Find Joinable Row Pairs\n",
    "\n",
    "* $\\operatorname{KeyColumns}(T)$ : returns all the single columns that is part of a key column in the table $T$.\n",
    "* $\\operatorname{Suffixes}(v)$ : returns all suffixes of a value $v$.\n",
    "* $\\operatorname{QueryIndex}(C,g)$ : uses a suffix array index built for the column $C$, and returns a list of rows containing $g$.\n",
    "* $\\operatorname{MaxByScore}$ : returns the optimal row pairs with the hightest score.\n",
    "* $q^*$ : leads to the highest score should results in the smallest possible non-zero number of matches in $C_t$.\n",
    "  * マッチ数が少なければ$\\frac{1}{mn}$は大きくなる\n",
    "* $r_t$ : the matching rows in $C_t$ returned by $\\operatorname{QueryIndex}$\n",
    "  * calling $\\operatorname{QueryIndex}(C_t,g_u^{q^*})$ results in $|r_t| \\ge 1$, while calling $\\operatorname{QueryIndex}(C_t,g_u^{q+1^*})$ results in $|r_t|=0$.\n",
    "\n",
    "**TODO**\n",
    "\n",
    "- search \"suffix array index\" in this paper.\n"
   ]
  },
  {
   "cell_type": "markdown",
   "metadata": {},
   "source": [
    "$C_s$ is not needed in finding $g_u^{q^*}$\n",
    "1. $n=|r_s|>0$\n",
    "2. when $m=|r_t|=0$, the score $\\frac{1}{nm}$ becomes undefined and thus the corresponding $q$ is infeasible.\n",
    "Therefore, $q^*$ is only obtained at the conditions mentioned above, and is not dependent on $C_s$.\n",
    "\n",
    "* $\\operatorname{BinarySearchQ}(u,C)$ performs the binary search of $q^*$ that finds $g_u^{q^*}$ in $C$.\n",
    "* 最適な$q$、つまりサフィックスに対してもっとも長いプレフィックスを見つけることのできる$q$を、バイナリサーチをかけることで見つけます\n",
    "* $q\\lt3$のときはパフォーマンスに影響が出るため、ブレイカーを設けている"
   ]
  },
  {
   "cell_type": "code",
   "execution_count": null,
   "metadata": {},
   "outputs": [],
   "source": []
  }
 ],
 "metadata": {
  "kernelspec": {
   "display_name": "Python 3",
   "language": "python",
   "name": "python3"
  },
  "language_info": {
   "codemirror_mode": {
    "name": "ipython",
    "version": 3
   },
   "file_extension": ".py",
   "mimetype": "text/x-python",
   "name": "python",
   "nbconvert_exporter": "python",
   "pygments_lexer": "ipython3",
   "version": "3.6.5"
  }
 },
 "nbformat": 4,
 "nbformat_minor": 2
}
